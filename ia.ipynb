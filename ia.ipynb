{
 "cells": [
  {
   "cell_type": "markdown",
   "metadata": {},
   "source": [
    "Lucas Auada Braga\n",
    "Vitor Kenzo Koga Onoue\n",
    "\n",
    "4/5 - Vitor Onoue - Starting data preparation\n",
    "\n",
    "4/6 - Vitor Onoue - Finished data preparation + EDA\n",
    "\n",
    "5/31 - Lucas Braga - Second notebook containing model training steps\n",
    "\n",
    "5/31 - Vitor Onoue - Merging both notebooks + adding comments"
   ]
  },
  {
   "cell_type": "markdown",
   "metadata": {},
   "source": [
    "In this notebook, we are preparing and cleaning an e-commerce dataset from Olist, in order to train a model to predict if an order's delivery will be delayed.\n",
    "\n",
    "After selecting the fields that will be used, we are also making a very simple EDA."
   ]
  },
  {
   "cell_type": "code",
   "execution_count": 39,
   "metadata": {},
   "outputs": [],
   "source": [
    "import pandas as pd"
   ]
  },
  {
   "cell_type": "markdown",
   "metadata": {},
   "source": [
    "Taking a look at each csv file"
   ]
  },
  {
   "cell_type": "code",
   "execution_count": 40,
   "metadata": {},
   "outputs": [
    {
     "data": {
      "text/html": [
       "<div>\n",
       "<style scoped>\n",
       "    .dataframe tbody tr th:only-of-type {\n",
       "        vertical-align: middle;\n",
       "    }\n",
       "\n",
       "    .dataframe tbody tr th {\n",
       "        vertical-align: top;\n",
       "    }\n",
       "\n",
       "    .dataframe thead th {\n",
       "        text-align: right;\n",
       "    }\n",
       "</style>\n",
       "<table border=\"1\" class=\"dataframe\">\n",
       "  <thead>\n",
       "    <tr style=\"text-align: right;\">\n",
       "      <th></th>\n",
       "      <th>order_id</th>\n",
       "      <th>customer_id</th>\n",
       "      <th>order_status</th>\n",
       "      <th>order_purchase_timestamp</th>\n",
       "      <th>order_approved_at</th>\n",
       "      <th>order_delivered_carrier_date</th>\n",
       "      <th>order_delivered_customer_date</th>\n",
       "      <th>order_estimated_delivery_date</th>\n",
       "    </tr>\n",
       "  </thead>\n",
       "  <tbody>\n",
       "    <tr>\n",
       "      <th>55097</th>\n",
       "      <td>cdf7511b632d2a9b53d70b1e24a45e70</td>\n",
       "      <td>fc2f06b2af43f8be78736cd991ca8486</td>\n",
       "      <td>delivered</td>\n",
       "      <td>2018-07-04 16:35:27</td>\n",
       "      <td>2018-07-05 16:15:56</td>\n",
       "      <td>2018-07-05 13:30:00</td>\n",
       "      <td>2018-07-07 17:37:36</td>\n",
       "      <td>2018-07-30 00:00:00</td>\n",
       "    </tr>\n",
       "  </tbody>\n",
       "</table>\n",
       "</div>"
      ],
      "text/plain": [
       "                               order_id                       customer_id  \\\n",
       "55097  cdf7511b632d2a9b53d70b1e24a45e70  fc2f06b2af43f8be78736cd991ca8486   \n",
       "\n",
       "      order_status order_purchase_timestamp    order_approved_at  \\\n",
       "55097    delivered      2018-07-04 16:35:27  2018-07-05 16:15:56   \n",
       "\n",
       "      order_delivered_carrier_date order_delivered_customer_date  \\\n",
       "55097          2018-07-05 13:30:00           2018-07-07 17:37:36   \n",
       "\n",
       "      order_estimated_delivery_date  \n",
       "55097           2018-07-30 00:00:00  "
      ]
     },
     "execution_count": 40,
     "metadata": {},
     "output_type": "execute_result"
    }
   ],
   "source": [
    "orders = pd.read_csv('csvs/olist_orders_dataset.csv')\n",
    "orders.sample()"
   ]
  },
  {
   "cell_type": "code",
   "execution_count": 41,
   "metadata": {},
   "outputs": [
    {
     "data": {
      "text/html": [
       "<div>\n",
       "<style scoped>\n",
       "    .dataframe tbody tr th:only-of-type {\n",
       "        vertical-align: middle;\n",
       "    }\n",
       "\n",
       "    .dataframe tbody tr th {\n",
       "        vertical-align: top;\n",
       "    }\n",
       "\n",
       "    .dataframe thead th {\n",
       "        text-align: right;\n",
       "    }\n",
       "</style>\n",
       "<table border=\"1\" class=\"dataframe\">\n",
       "  <thead>\n",
       "    <tr style=\"text-align: right;\">\n",
       "      <th></th>\n",
       "      <th>customer_id</th>\n",
       "      <th>customer_unique_id</th>\n",
       "      <th>customer_zip_code_prefix</th>\n",
       "      <th>customer_city</th>\n",
       "      <th>customer_state</th>\n",
       "    </tr>\n",
       "  </thead>\n",
       "  <tbody>\n",
       "    <tr>\n",
       "      <th>24834</th>\n",
       "      <td>bbcf8ece3eb8126cd7e507284ede76c7</td>\n",
       "      <td>8c628e66ad97ce2163d23d1156e19a0e</td>\n",
       "      <td>22220</td>\n",
       "      <td>rio de janeiro</td>\n",
       "      <td>RJ</td>\n",
       "    </tr>\n",
       "  </tbody>\n",
       "</table>\n",
       "</div>"
      ],
      "text/plain": [
       "                            customer_id                customer_unique_id  \\\n",
       "24834  bbcf8ece3eb8126cd7e507284ede76c7  8c628e66ad97ce2163d23d1156e19a0e   \n",
       "\n",
       "       customer_zip_code_prefix   customer_city customer_state  \n",
       "24834                     22220  rio de janeiro             RJ  "
      ]
     },
     "execution_count": 41,
     "metadata": {},
     "output_type": "execute_result"
    }
   ],
   "source": [
    "customers = pd.read_csv('csvs/olist_customers_dataset.csv')\n",
    "customers.sample()"
   ]
  },
  {
   "cell_type": "code",
   "execution_count": 42,
   "metadata": {},
   "outputs": [
    {
     "data": {
      "text/html": [
       "<div>\n",
       "<style scoped>\n",
       "    .dataframe tbody tr th:only-of-type {\n",
       "        vertical-align: middle;\n",
       "    }\n",
       "\n",
       "    .dataframe tbody tr th {\n",
       "        vertical-align: top;\n",
       "    }\n",
       "\n",
       "    .dataframe thead th {\n",
       "        text-align: right;\n",
       "    }\n",
       "</style>\n",
       "<table border=\"1\" class=\"dataframe\">\n",
       "  <thead>\n",
       "    <tr style=\"text-align: right;\">\n",
       "      <th></th>\n",
       "      <th>order_id</th>\n",
       "      <th>order_item_id</th>\n",
       "      <th>product_id</th>\n",
       "      <th>seller_id</th>\n",
       "      <th>shipping_limit_date</th>\n",
       "      <th>price</th>\n",
       "      <th>freight_value</th>\n",
       "    </tr>\n",
       "  </thead>\n",
       "  <tbody>\n",
       "    <tr>\n",
       "      <th>89251</th>\n",
       "      <td>cab899336401fd910bf645dc446d42de</td>\n",
       "      <td>1</td>\n",
       "      <td>33b22110fa818ff5f0c387a79f19b612</td>\n",
       "      <td>6b243f80ed07b10f0e8aa0f21a205f3c</td>\n",
       "      <td>2017-11-30 02:53:00</td>\n",
       "      <td>54.9</td>\n",
       "      <td>15.82</td>\n",
       "    </tr>\n",
       "  </tbody>\n",
       "</table>\n",
       "</div>"
      ],
      "text/plain": [
       "                               order_id  order_item_id  \\\n",
       "89251  cab899336401fd910bf645dc446d42de              1   \n",
       "\n",
       "                             product_id                         seller_id  \\\n",
       "89251  33b22110fa818ff5f0c387a79f19b612  6b243f80ed07b10f0e8aa0f21a205f3c   \n",
       "\n",
       "       shipping_limit_date  price  freight_value  \n",
       "89251  2017-11-30 02:53:00   54.9          15.82  "
      ]
     },
     "execution_count": 42,
     "metadata": {},
     "output_type": "execute_result"
    }
   ],
   "source": [
    "order_items = pd.read_csv('csvs/olist_order_items_dataset.csv')\n",
    "order_items.sample()"
   ]
  },
  {
   "cell_type": "markdown",
   "metadata": {},
   "source": [
    "Treating orders"
   ]
  },
  {
   "cell_type": "code",
   "execution_count": 43,
   "metadata": {},
   "outputs": [],
   "source": [
    "# cleaning rows where the order_delivered_customer_date is null (treating as not delivered)\n",
    "orders = orders.dropna(subset=['order_delivered_customer_date'])\n",
    "\n",
    "# converting date columns to datetime format\n",
    "orders['order_purchase_timestamp'] = pd.to_datetime(orders['order_purchase_timestamp'])\n",
    "orders['order_delivered_customer_date'] = pd.to_datetime(orders['order_delivered_customer_date'])\n",
    "orders['order_estimated_delivery_date'] = pd.to_datetime(orders['order_estimated_delivery_date'])\n",
    "\n",
    "# creating a new column for the estimated delivery in days\n",
    "orders['estimated_delivery_days'] = (orders['order_estimated_delivery_date'] - orders['order_purchase_timestamp']).dt.days\n",
    "\n",
    "# creating a new column for month of purchase\n",
    "orders['purchase_month'] = orders['order_purchase_timestamp'].dt.month\n",
    "\n",
    "# creating a delay column by checking if the date the customer received the order is greater than what was expected\n",
    "orders['delay'] = (orders['order_delivered_customer_date'] > orders['order_estimated_delivery_date']).astype(bool)"
   ]
  },
  {
   "cell_type": "markdown",
   "metadata": {},
   "source": [
    "Treating customers"
   ]
  },
  {
   "cell_type": "code",
   "execution_count": 44,
   "metadata": {},
   "outputs": [],
   "source": [
    "# for the customers csv, only using the customer_state field - removing rows with null values for this field\n",
    "customers = customers.dropna(subset=['customer_state'])"
   ]
  },
  {
   "cell_type": "markdown",
   "metadata": {},
   "source": [
    "Treating order_items"
   ]
  },
  {
   "cell_type": "code",
   "execution_count": 45,
   "metadata": {},
   "outputs": [],
   "source": [
    "# for the order_items csv, only using the freight_value field - removing rows with null values for this field\n",
    "order_items = order_items.dropna(subset=['freight_value'])"
   ]
  },
  {
   "cell_type": "markdown",
   "metadata": {},
   "source": [
    "Each row in order_items contains a product and an order it is associated to\n",
    "\n",
    "Which means that we may have multiple rows with the same order_id, as an order can have multiple products\n",
    "\n",
    "The goal is to predict a possible delay in the delivery of an **order**, so we are transforming multiple rows with the same order_id into a single row\n",
    "\n",
    "We are considering each product having its own freight tax, and if an order contains, for example, 3 products, the total freight value will be the sum of all products' freight values"
   ]
  },
  {
   "cell_type": "code",
   "execution_count": 46,
   "metadata": {},
   "outputs": [],
   "source": [
    "order_items_agg = order_items.groupby('order_id').agg({\n",
    "    'freight_value': 'sum',\n",
    "    'price': 'sum',\n",
    "    'order_item_id': 'count'\n",
    "}).rename(columns={\n",
    "    'price': 'order_price',\n",
    "    'order_item_id': 'item_count'\n",
    "}).reset_index()"
   ]
  },
  {
   "cell_type": "markdown",
   "metadata": {},
   "source": [
    "Merging all the csvs together into a single csv, with only the fields we are going to use"
   ]
  },
  {
   "cell_type": "code",
   "execution_count": 47,
   "metadata": {},
   "outputs": [
    {
     "data": {
      "text/html": [
       "<div>\n",
       "<style scoped>\n",
       "    .dataframe tbody tr th:only-of-type {\n",
       "        vertical-align: middle;\n",
       "    }\n",
       "\n",
       "    .dataframe tbody tr th {\n",
       "        vertical-align: top;\n",
       "    }\n",
       "\n",
       "    .dataframe thead th {\n",
       "        text-align: right;\n",
       "    }\n",
       "</style>\n",
       "<table border=\"1\" class=\"dataframe\">\n",
       "  <thead>\n",
       "    <tr style=\"text-align: right;\">\n",
       "      <th></th>\n",
       "      <th>order_purchase_timestamp</th>\n",
       "      <th>order_estimated_delivery_date</th>\n",
       "      <th>order_delivered_customer_date</th>\n",
       "      <th>customer_state</th>\n",
       "      <th>order_price</th>\n",
       "      <th>freight_value</th>\n",
       "      <th>estimated_delivery_days</th>\n",
       "      <th>purchase_month</th>\n",
       "      <th>delay</th>\n",
       "    </tr>\n",
       "  </thead>\n",
       "  <tbody>\n",
       "    <tr>\n",
       "      <th>34537</th>\n",
       "      <td>2018-04-21 14:30:01</td>\n",
       "      <td>2018-05-15</td>\n",
       "      <td>2018-04-27 22:23:41</td>\n",
       "      <td>SP</td>\n",
       "      <td>195.0</td>\n",
       "      <td>25.02</td>\n",
       "      <td>23</td>\n",
       "      <td>4</td>\n",
       "      <td>False</td>\n",
       "    </tr>\n",
       "  </tbody>\n",
       "</table>\n",
       "</div>"
      ],
      "text/plain": [
       "      order_purchase_timestamp order_estimated_delivery_date  \\\n",
       "34537      2018-04-21 14:30:01                    2018-05-15   \n",
       "\n",
       "      order_delivered_customer_date customer_state  order_price  \\\n",
       "34537           2018-04-27 22:23:41             SP        195.0   \n",
       "\n",
       "       freight_value  estimated_delivery_days  purchase_month  delay  \n",
       "34537          25.02                       23               4  False  "
      ]
     },
     "execution_count": 47,
     "metadata": {},
     "output_type": "execute_result"
    }
   ],
   "source": [
    "dataset = orders.merge(order_items_agg, on='order_id', how='left')\n",
    "dataset = dataset.merge(customers, on='customer_id', how='left')\n",
    "\n",
    "columns = ['order_purchase_timestamp',\n",
    "                      'order_estimated_delivery_date', 'order_delivered_customer_date',\n",
    "                      'customer_state', 'order_price', 'freight_value', 'estimated_delivery_days', 'purchase_month', 'delay']\n",
    "dataset[columns].to_csv('csvs/clean_dataset.csv', index=False)\n",
    "\n",
    "dataset[columns].sample()"
   ]
  },
  {
   "cell_type": "markdown",
   "metadata": {},
   "source": [
    "Starting Exploratory Data Analysis"
   ]
  },
  {
   "cell_type": "code",
   "execution_count": 48,
   "metadata": {},
   "outputs": [],
   "source": [
    "import matplotlib.pyplot as plt\n",
    "import seaborn as sns\n",
    "\n",
    "dataset = pd.read_csv('csvs/clean_dataset.csv')"
   ]
  },
  {
   "cell_type": "code",
   "execution_count": 49,
   "metadata": {},
   "outputs": [
    {
     "data": {
      "text/html": [
       "<div>\n",
       "<style scoped>\n",
       "    .dataframe tbody tr th:only-of-type {\n",
       "        vertical-align: middle;\n",
       "    }\n",
       "\n",
       "    .dataframe tbody tr th {\n",
       "        vertical-align: top;\n",
       "    }\n",
       "\n",
       "    .dataframe thead th {\n",
       "        text-align: right;\n",
       "    }\n",
       "</style>\n",
       "<table border=\"1\" class=\"dataframe\">\n",
       "  <thead>\n",
       "    <tr style=\"text-align: right;\">\n",
       "      <th></th>\n",
       "      <th>order_purchase_timestamp</th>\n",
       "      <th>order_estimated_delivery_date</th>\n",
       "      <th>order_delivered_customer_date</th>\n",
       "      <th>customer_state</th>\n",
       "      <th>order_price</th>\n",
       "      <th>freight_value</th>\n",
       "      <th>estimated_delivery_days</th>\n",
       "      <th>purchase_month</th>\n",
       "      <th>delay</th>\n",
       "    </tr>\n",
       "  </thead>\n",
       "  <tbody>\n",
       "    <tr>\n",
       "      <th>0</th>\n",
       "      <td>2017-10-02 10:56:33</td>\n",
       "      <td>2017-10-18</td>\n",
       "      <td>2017-10-10 21:25:13</td>\n",
       "      <td>SP</td>\n",
       "      <td>29.99</td>\n",
       "      <td>8.72</td>\n",
       "      <td>15</td>\n",
       "      <td>10</td>\n",
       "      <td>False</td>\n",
       "    </tr>\n",
       "    <tr>\n",
       "      <th>1</th>\n",
       "      <td>2018-07-24 20:41:37</td>\n",
       "      <td>2018-08-13</td>\n",
       "      <td>2018-08-07 15:27:45</td>\n",
       "      <td>BA</td>\n",
       "      <td>118.70</td>\n",
       "      <td>22.76</td>\n",
       "      <td>19</td>\n",
       "      <td>7</td>\n",
       "      <td>False</td>\n",
       "    </tr>\n",
       "    <tr>\n",
       "      <th>2</th>\n",
       "      <td>2018-08-08 08:38:49</td>\n",
       "      <td>2018-09-04</td>\n",
       "      <td>2018-08-17 18:06:29</td>\n",
       "      <td>GO</td>\n",
       "      <td>159.90</td>\n",
       "      <td>19.22</td>\n",
       "      <td>26</td>\n",
       "      <td>8</td>\n",
       "      <td>False</td>\n",
       "    </tr>\n",
       "    <tr>\n",
       "      <th>3</th>\n",
       "      <td>2017-11-18 19:28:06</td>\n",
       "      <td>2017-12-15</td>\n",
       "      <td>2017-12-02 00:28:42</td>\n",
       "      <td>RN</td>\n",
       "      <td>45.00</td>\n",
       "      <td>27.20</td>\n",
       "      <td>26</td>\n",
       "      <td>11</td>\n",
       "      <td>False</td>\n",
       "    </tr>\n",
       "    <tr>\n",
       "      <th>4</th>\n",
       "      <td>2018-02-13 21:18:39</td>\n",
       "      <td>2018-02-26</td>\n",
       "      <td>2018-02-16 18:17:02</td>\n",
       "      <td>SP</td>\n",
       "      <td>19.90</td>\n",
       "      <td>8.72</td>\n",
       "      <td>12</td>\n",
       "      <td>2</td>\n",
       "      <td>False</td>\n",
       "    </tr>\n",
       "  </tbody>\n",
       "</table>\n",
       "</div>"
      ],
      "text/plain": [
       "  order_purchase_timestamp order_estimated_delivery_date  \\\n",
       "0      2017-10-02 10:56:33                    2017-10-18   \n",
       "1      2018-07-24 20:41:37                    2018-08-13   \n",
       "2      2018-08-08 08:38:49                    2018-09-04   \n",
       "3      2017-11-18 19:28:06                    2017-12-15   \n",
       "4      2018-02-13 21:18:39                    2018-02-26   \n",
       "\n",
       "  order_delivered_customer_date customer_state  order_price  freight_value  \\\n",
       "0           2017-10-10 21:25:13             SP        29.99           8.72   \n",
       "1           2018-08-07 15:27:45             BA       118.70          22.76   \n",
       "2           2018-08-17 18:06:29             GO       159.90          19.22   \n",
       "3           2017-12-02 00:28:42             RN        45.00          27.20   \n",
       "4           2018-02-16 18:17:02             SP        19.90           8.72   \n",
       "\n",
       "   estimated_delivery_days  purchase_month  delay  \n",
       "0                       15              10  False  \n",
       "1                       19               7  False  \n",
       "2                       26               8  False  \n",
       "3                       26              11  False  \n",
       "4                       12               2  False  "
      ]
     },
     "execution_count": 49,
     "metadata": {},
     "output_type": "execute_result"
    }
   ],
   "source": [
    "# First five rows\n",
    "dataset.head()"
   ]
  },
  {
   "cell_type": "code",
   "execution_count": 50,
   "metadata": {},
   "outputs": [
    {
     "name": "stdout",
     "output_type": "stream",
     "text": [
      "<class 'pandas.core.frame.DataFrame'>\n",
      "RangeIndex: 96476 entries, 0 to 96475\n",
      "Data columns (total 9 columns):\n",
      " #   Column                         Non-Null Count  Dtype  \n",
      "---  ------                         --------------  -----  \n",
      " 0   order_purchase_timestamp       96476 non-null  object \n",
      " 1   order_estimated_delivery_date  96476 non-null  object \n",
      " 2   order_delivered_customer_date  96476 non-null  object \n",
      " 3   customer_state                 96476 non-null  object \n",
      " 4   order_price                    96476 non-null  float64\n",
      " 5   freight_value                  96476 non-null  float64\n",
      " 6   estimated_delivery_days        96476 non-null  int64  \n",
      " 7   purchase_month                 96476 non-null  int64  \n",
      " 8   delay                          96476 non-null  bool   \n",
      "dtypes: bool(1), float64(2), int64(2), object(4)\n",
      "memory usage: 6.0+ MB\n",
      "None\n"
     ]
    }
   ],
   "source": [
    "# General info\n",
    "print(dataset.info())"
   ]
  },
  {
   "cell_type": "code",
   "execution_count": 51,
   "metadata": {},
   "outputs": [
    {
     "name": "stdout",
     "output_type": "stream",
     "text": [
      "order_purchase_timestamp         0\n",
      "order_estimated_delivery_date    0\n",
      "order_delivered_customer_date    0\n",
      "customer_state                   0\n",
      "order_price                      0\n",
      "freight_value                    0\n",
      "estimated_delivery_days          0\n",
      "purchase_month                   0\n",
      "delay                            0\n",
      "dtype: int64\n"
     ]
    }
   ],
   "source": [
    "# Checking null values - as they were removed previously, expected to be 0\n",
    "print(dataset.isnull().sum())"
   ]
  },
  {
   "cell_type": "code",
   "execution_count": 52,
   "metadata": {},
   "outputs": [
    {
     "data": {
      "text/plain": [
       "36444    -8\n",
       "55699    -7\n",
       "11024   -18\n",
       "36791    -4\n",
       "57461    -9\n",
       "Name: delay_in_days, dtype: int64"
      ]
     },
     "execution_count": 52,
     "metadata": {},
     "output_type": "execute_result"
    }
   ],
   "source": [
    "# Calculating delay\n",
    "dataset['order_purchase_timestamp'] = pd.to_datetime(dataset['order_purchase_timestamp'])\n",
    "dataset['order_estimated_delivery_date'] = pd.to_datetime(dataset['order_estimated_delivery_date'])\n",
    "dataset['order_delivered_customer_date'] = pd.to_datetime(dataset['order_delivered_customer_date'])\n",
    "\n",
    "dataset['delay_in_days'] = (dataset['order_delivered_customer_date'] - dataset['order_estimated_delivery_date']).dt.days\n",
    "dataset['delay_in_days'].sample(5)"
   ]
  },
  {
   "cell_type": "code",
   "execution_count": 53,
   "metadata": {},
   "outputs": [
    {
     "data": {
      "image/png": "[encoded data removed]",
      "text/plain": [
       "<Figure size 640x480 with 1 Axes>"
      ]
     },
     "metadata": {},
     "output_type": "display_data"
    }
   ],
   "source": [
    "# Delay histogram\n",
    "sns.histplot(dataset['delay_in_days'].dropna(), bins=30, kde=True)\n",
    "plt.title('Delay in Days Distribution')\n",
    "plt.xlim(-100, 100)\n",
    "plt.show()"
   ]
  },
  {
   "cell_type": "code",
   "execution_count": 54,
   "metadata": {},
   "outputs": [
    {
     "data": {
      "image/png": "[encoded data removed]",
      "text/plain": [
       "<Figure size 640x480 with 1 Axes>"
      ]
     },
     "metadata": {},
     "output_type": "display_data"
    }
   ],
   "source": [
    "# Price vs Freight value scatter\n",
    "sns.scatterplot(data=dataset, x='order_price', y='freight_value')\n",
    "plt.title('Price vs Freight Value')\n",
    "plt.xlabel('Price')\n",
    "plt.ylabel('Freight Value')\n",
    "plt.show()"
   ]
  },
  {
   "cell_type": "markdown",
   "metadata": {},
   "source": [
    "Model training steps:\n",
    "\n",
    "+ select the feature columns and the target column\n",
    "+ split training and testing data\n",
    "+ choose the algorithm and train the model\n",
    "+ print and analyze the results"
   ]
  },
  {
   "cell_type": "code",
   "execution_count": 30,
   "metadata": {},
   "outputs": [],
   "source": [
    "from sklearn.model_selection import train_test_split\n",
    "from sklearn.preprocessing import StandardScaler\n",
    "from sklearn.linear_model import LogisticRegression\n",
    "from sklearn.ensemble import RandomForestClassifier\n",
    "from sklearn.metrics import classification_report, confusion_matrix\n",
    "\n",
    "orders = pd.read_csv('csvs/clean_dataset.csv')\n"
   ]
  },
  {
   "cell_type": "code",
   "execution_count": 31,
   "metadata": {},
   "outputs": [],
   "source": [
    "# one-hot encoding customer_state\n",
    "orders = pd.get_dummies(orders, columns=['customer_state'], drop_first=True)\n",
    "\n",
    "# selecting features and target\n",
    "x = orders[['order_price', 'freight_value', 'estimated_delivery_days', 'purchase_month'] + [col for col in orders.columns if col.startswith('customer_state_')]]\n",
    "y = orders['delay']\n",
    "\n",
    "# splitting the dataset into training and testing sets\n",
    "x_train, x_test, y_train, y_test = train_test_split(x, y, test_size=0.3, random_state=42)\n",
    "\n",
    "# normalizing the features, as logistic regression will be sensitive to the high/low values of order_price and freight_value\n",
    "scaler = StandardScaler()\n",
    "x_train_scaled = scaler.fit_transform(x_train)\n",
    "x_test_scaled = scaler.transform(x_test)"
   ]
  },
  {
   "cell_type": "code",
   "execution_count": null,
   "metadata": {},
   "outputs": [],
   "source": [
    "# training with logistic regression - the low amount of falses requires class balance\n",
    "lr = LogisticRegression(max_iter=1000, class_weight='balanced')\n",
    "lr.fit(x_train_scaled, y_train)\n",
    "y_pred_lr = lr.predict(x_test_scaled)"
   ]
  },
  {
   "cell_type": "code",
   "execution_count": 33,
   "metadata": {},
   "outputs": [
    {
     "name": "stdout",
     "output_type": "stream",
     "text": [
      "Logistic Regression\n",
      "              precision    recall  f1-score   support\n",
      "\n",
      "       False       0.95      0.64      0.77     26577\n",
      "        True       0.13      0.63      0.22      2366\n",
      "\n",
      "    accuracy                           0.64     28943\n",
      "   macro avg       0.54      0.64      0.49     28943\n",
      "weighted avg       0.88      0.64      0.72     28943\n",
      "\n",
      "Confusion matrix:\n",
      "[[17039  9538]\n",
      " [  878  1488]]\n"
     ]
    }
   ],
   "source": [
    "print(\"Logistic Regression\")\n",
    "print(classification_report(y_test, y_pred_lr))\n",
    "print(\"Confusion matrix:\")\n",
    "print(confusion_matrix(y_test, y_pred_lr))"
   ]
  },
  {
   "cell_type": "code",
   "execution_count": null,
   "metadata": {},
   "outputs": [],
   "source": [
    "# training with random forest - the low amount of falses requires class balance\n",
    "rf = RandomForestClassifier(n_estimators=100, random_state=42, class_weight='balanced')\n",
    "rf.fit(x_train, y_train)\n",
    "y_pred_rf = rf.predict(x_test)"
   ]
  },
  {
   "cell_type": "code",
   "execution_count": 35,
   "metadata": {},
   "outputs": [
    {
     "name": "stdout",
     "output_type": "stream",
     "text": [
      "Random Forest\n",
      "              precision    recall  f1-score   support\n",
      "\n",
      "       False       0.92      0.98      0.95     26577\n",
      "        True       0.32      0.10      0.15      2366\n",
      "\n",
      "    accuracy                           0.91     28943\n",
      "   macro avg       0.62      0.54      0.55     28943\n",
      "weighted avg       0.88      0.91      0.89     28943\n",
      "\n",
      "Confusion matrix:\n",
      "[[26068   509]\n",
      " [ 2127   239]]\n"
     ]
    }
   ],
   "source": [
    "print(\"Random Forest\")\n",
    "print(classification_report(y_test, y_pred_rf))\n",
    "print(\"Confusion matrix:\")\n",
    "print(confusion_matrix(y_test, y_pred_rf))"
   ]
  }
 ],
 "metadata": {
  "kernelspec": {
   "display_name": "base",
   "language": "python",
   "name": "python3"
  },
  "language_info": {
   "codemirror_mode": {
    "name": "ipython",
    "version": 3
   },
   "file_extension": ".py",
   "mimetype": "text/x-python",
   "name": "python",
   "nbconvert_exporter": "python",
   "pygments_lexer": "ipython3",
   "version": "3.12.7"
  }
 },
 "nbformat": 4,
 "nbformat_minor": 2
}
