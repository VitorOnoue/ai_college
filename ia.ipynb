{
 "cells": [
  {
   "cell_type": "markdown",
   "metadata": {},
   "source": [
    "order_purchase_timestamp\tData da compra\n",
    "order_delivered_customer_date\tData da entrega real\n",
    "order_estimated_delivery_date\tPrevisão de entrega\n",
    "OLIST_ORDERS_DATASET\n",
    "\n",
    "customer_state\tEstado do cliente\n",
    "OLIST_CUSTOMERS_DATASET\n",
    "\n",
    "shipping_limit_date\tData máxima de envio pelo vendedor\n",
    "freight_value\tValor do frete\n",
    "OLIST_ORDER_ITEMS_DATASET\n",
    "\n",
    "product_category_name\tCategoria do produto\n",
    "OLIST_PRODUCTS_DATASET"
   ]
  },
  {
   "cell_type": "code",
   "execution_count": 38,
   "metadata": {},
   "outputs": [],
   "source": [
    "import pandas as pd\n",
    "\n",
    "orders = pd.read_csv('olist_orders_dataset.csv')\n",
    "customers = pd.read_csv('olist_customers_dataset.csv')\n",
    "order_items = pd.read_csv('olist_order_items_dataset.csv')\n",
    "products = pd.read_csv('olist_products_dataset.csv')\n",
    "# order_reviews = pd.read_csv('olist_order_reviews_dataset.csv')\n",
    "\n",
    "# cleaning rows where the order_delivered_customer_date is null (treating as not delivered)\n",
    "orders = orders.dropna(subset=['order_delivered_customer_date'])\n",
    "\n",
    "# converting to datetime\n",
    "orders['order_purchase_timestamp'] = pd.to_datetime(orders['order_purchase_timestamp'])\n",
    "orders['order_delivered_customer_date'] = pd.to_datetime(orders['order_delivered_customer_date'])\n",
    "orders['order_estimated_delivery_date'] = pd.to_datetime(orders['order_estimated_delivery_date'])\n",
    "\n",
    "# creating a delay column by checking if the date the customer received the order is greater than what was expected\n",
    "orders['delay'] = (orders['order_delivered_customer_date'] > orders['order_estimated_delivery_date']).astype(bool)\n",
    "\n",
    "# for the customers csv, only using the customer_city/state field - removing rows with null values for these fields\n",
    "customers = customers.dropna(subset=['customer_city', 'customer_state'])\n",
    "\n",
    "# for the order_items csv, only using the shipping_limit_date and freight_value fields - removing rows with null values for these fields\n",
    "order_items = order_items.dropna(subset=['shipping_limit_date', 'freight_value'])\n",
    "\n",
    "# for the products csv, only using the product_category_name field - removing rows with null values for this field\n",
    "products = products.dropna(subset=['product_category_name'])"
   ]
  }
 ],
 "metadata": {
  "kernelspec": {
   "display_name": "base",
   "language": "python",
   "name": "python3"
  },
  "language_info": {
   "codemirror_mode": {
    "name": "ipython",
    "version": 3
   },
   "file_extension": ".py",
   "mimetype": "text/x-python",
   "name": "python",
   "nbconvert_exporter": "python",
   "pygments_lexer": "ipython3",
   "version": "3.12.7"
  }
 },
 "nbformat": 4,
 "nbformat_minor": 2
}
