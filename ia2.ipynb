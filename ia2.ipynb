{
 "cells": [
  {
   "cell_type": "markdown",
   "id": "60d198e5",
   "metadata": {},
   "source": [
    "# === ETAPA 1: Importações ==="
   ]
  },
  {
   "cell_type": "code",
   "execution_count": null,
   "id": "3e608efd",
   "metadata": {
    "vscode": {
     "languageId": "plaintext"
    }
   },
   "outputs": [],
   "source": [
    "import pandas as pd\n",
    "import numpy as np\n",
    "import matplotlib.pyplot as plt\n",
    "import seaborn as sns\n",
    "\n",
    "from sklearn.model_selection import train_test_split\n",
    "from sklearn.preprocessing import StandardScaler\n",
    "from sklearn.linear_model import LogisticRegression\n",
    "from sklearn.ensemble import RandomForestClassifier\n",
    "from sklearn.metrics import classification_report, confusion_matrix"
   ]
  },
  {
   "cell_type": "markdown",
   "id": "61b7d822",
   "metadata": {},
   "source": [
    "# === ETAPA 2: Carregamento dos dados ==="
   ]
  },
  {
   "cell_type": "code",
   "execution_count": null,
   "id": "7179c67a",
   "metadata": {
    "vscode": {
     "languageId": "plaintext"
    }
   },
   "outputs": [],
   "source": [
    "orders = pd.read_csv('olist_orders_dataset.csv', parse_dates=[\n",
    "    'order_purchase_timestamp',\n",
    "    'order_delivered_customer_date',\n",
    "    'order_estimated_delivery_date'\n",
    "])\n",
    "customers = pd.read_csv('olist_customers_dataset.csv')\n",
    "\n",
    "# Juntando pedidos com localização do cliente\n",
    "df = pd.merge(orders, customers, on='customer_id', how='left')\n",
    "\n",
    "# Selecionando colunas de interesse\n",
    "df = df[[\n",
    "    'order_purchase_timestamp',\n",
    "    'order_delivered_customer_date',\n",
    "    'order_estimated_delivery_date',\n",
    "    'customer_state'\n",
    "]].dropna()"
   ]
  },
  {
   "cell_type": "markdown",
   "id": "26c6f64f",
   "metadata": {},
   "source": [
    "# === ETAPA 3: Criação da variável alvo e novas features ==="
   ]
  },
  {
   "cell_type": "code",
   "execution_count": null,
   "id": "2dadbc9c",
   "metadata": {
    "vscode": {
     "languageId": "plaintext"
    }
   },
   "outputs": [],
   "source": [
    "df['dias_atraso'] = (df['order_delivered_customer_date'] - df['order_estimated_delivery_date']).dt.days\n",
    "df['atraso'] = df['dias_atraso'].apply(lambda x: 1 if x > 0 else 0)\n",
    "\n",
    "df['dias_estimados'] = (df['order_estimated_delivery_date'] - df['order_purchase_timestamp']).dt.days\n",
    "df['mes_compra'] = df['order_purchase_timestamp'].dt.month\n"
   ]
  },
  {
   "cell_type": "markdown",
   "id": "226f4c83",
   "metadata": {},
   "source": [
    "# === ETAPA 4: Preparação dos dados ==="
   ]
  },
  {
   "cell_type": "code",
   "execution_count": null,
   "id": "9df914ea",
   "metadata": {
    "vscode": {
     "languageId": "plaintext"
    }
   },
   "outputs": [],
   "source": [
    "X = df[['dias_estimados', 'mes_compra', 'customer_state']]\n",
    "y = df['atraso']\n",
    "\n",
    "# One-hot encoding para o estado\n",
    "X = pd.get_dummies(X, columns=['customer_state'], drop_first=True)\n",
    "\n",
    "# Normalização\n",
    "scaler = StandardScaler()\n",
    "X_scaled = scaler.fit_transform(X)\n",
    "\n",
    "# Divisão treino/teste\n",
    "X_train, X_test, y_train, y_test = train_test_split(X_scaled, y, test_size=0.3, random_state=42)\n"
   ]
  },
  {
   "cell_type": "markdown",
   "id": "82baeabe",
   "metadata": {},
   "source": [
    "# === ETAPA 5: Treinamento dos modelos ==="
   ]
  },
  {
   "cell_type": "code",
   "execution_count": null,
   "id": "03f20eac",
   "metadata": {
    "vscode": {
     "languageId": "plaintext"
    }
   },
   "outputs": [],
   "source": [
    "# Regressão Logística\n",
    "model_lr = LogisticRegression()\n",
    "model_lr.fit(X_train, y_train)\n",
    "y_pred_lr = model_lr.predict(X_test)\n",
    "\n",
    "# Random Forest\n",
    "model_rf = RandomForestClassifier(n_estimators=100, random_state=42)\n",
    "model_rf.fit(X_train, y_train)\n",
    "y_pred_rf = model_rf.predict(X_test)"
   ]
  },
  {
   "cell_type": "markdown",
   "id": "03f909fd",
   "metadata": {},
   "source": [
    "# === ETAPA 6: Avaliação dos resultados ==="
   ]
  },
  {
   "cell_type": "code",
   "execution_count": null,
   "id": "198dbb60",
   "metadata": {
    "vscode": {
     "languageId": "plaintext"
    }
   },
   "outputs": [],
   "source": [
    "print(\"=== Regressão Logística ===\")\n",
    "print(classification_report(y_test, y_pred_lr))\n",
    "\n",
    "print(\"\\n=== Random Forest ===\")\n",
    "print(classification_report(y_test, y_pred_rf))\n",
    "\n",
    "# Matriz de Confusão (Random Forest)\n",
    "sns.heatmap(confusion_matrix(y_test, y_pred_rf), annot=True, fmt='d', cmap='Blues')\n",
    "plt.title('Matriz de Confusão - Random Forest')\n",
    "plt.xlabel('Predição')\n",
    "plt.ylabel('Valor Real')\n",
    "plt.show()"
   ]
  }
 ],
 "metadata": {
  "language_info": {
   "name": "python"
  }
 },
 "nbformat": 4,
 "nbformat_minor": 5
}
